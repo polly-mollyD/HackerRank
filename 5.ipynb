{
 "cells": [
  {
   "cell_type": "markdown",
   "metadata": {},
   "source": [
    "## slicing\n",
    "Slicing is a notation, that lets you retrieve several items from a list (or a string).\n",
    "Instad of using just **\\[index\\]** in brackets you can write **\\[start:end\\]** or **\\[start:end:step\\]**.\n",
    "Examine the examples below."
   ]
  },
  {
   "cell_type": "code",
   "execution_count": 1,
   "metadata": {},
   "outputs": [
    {
     "name": "stdout",
     "output_type": "stream",
     "text": [
      "[1, 2, 3]\n",
      "[0, 1, 2]\n",
      "[6, 7, 8, 9, 10]\n",
      "[0, 1, 2, 3, 4, 5, 6, 7, 8, 9, 10]\n",
      "[1, 3, 5, 7]\n"
     ]
    }
   ],
   "source": [
    "l = [0, 1, 2, 3, 4, 5, 6, 7, 8, 9, 10]\n",
    "print(l[1:4])\n",
    "print(l[:3])\n",
    "print(l[6:])\n",
    "print(l[:])\n",
    "print(l[1:8:2])"
   ]
  },
  {
   "cell_type": "markdown",
   "metadata": {},
   "source": [
    "## lists\n",
    "There are some build in functions related to lists. You can check them https://docs.python.org/3/tutorial/datastructures.html#more-on-lists"
   ]
  },
  {
   "cell_type": "markdown",
   "metadata": {},
   "source": [
    "## strings\n",
    "While working with strings in Python you have to remember they are immutable. That means the code below will return error."
   ]
  },
  {
   "cell_type": "code",
   "execution_count": null,
   "metadata": {},
   "outputs": [],
   "source": [
    "s = 'string'\n",
    "s[1] = 'a'"
   ]
  },
  {
   "cell_type": "markdown",
   "metadata": {},
   "source": [
    "You can easily create a list of letters from given string and then put it back together using join() function."
   ]
  },
  {
   "cell_type": "code",
   "execution_count": 18,
   "metadata": {},
   "outputs": [
    {
     "name": "stdout",
     "output_type": "stream",
     "text": [
      "['s', 'a', 'r', 'i', 'n', 'g']\n",
      "saring\n",
      "s;a;r;i;n;g\n"
     ]
    }
   ],
   "source": [
    "s = 'string'\n",
    "l = list(s)\n",
    "l[1] = 'a'\n",
    "print(l)\n",
    "s = ''.join(l)\n",
    "print(s)\n",
    "s = ';'.join(l)\n",
    "print(s)"
   ]
  },
  {
   "cell_type": "markdown",
   "metadata": {},
   "source": [
    "Strings in python have many usefull functions already implemented. You will probably never use some of them, but you should at least once check them https://docs.python.org/3/library/stdtypes.html#string-methods"
   ]
  },
  {
   "cell_type": "markdown",
   "metadata": {},
   "source": [
    "## dictionaries\n",
    "Dictionary is a special container that lets you store values under specific names."
   ]
  },
  {
   "cell_type": "code",
   "execution_count": 19,
   "metadata": {},
   "outputs": [
    {
     "name": "stdout",
     "output_type": "stream",
     "text": [
      "{'my_key': 'my_value', 1: 123, '1': 'qwerty'}\n",
      "my_value\n",
      "123\n",
      "1\n"
     ]
    }
   ],
   "source": [
    "d = {}                    # creates empty dictionary\n",
    "d['my_key'] = 'my_value'  # we can put new values in dictionary just by assigning them to some key\n",
    "d[1] = 123\n",
    "d['1'] = 'qwerty'\n",
    "print(d)                 # we can print the whole dictionary\n",
    "print(d['my_key'])       # we can access values using the key we used before \n",
    "print(d[1])\n",
    "print('1')"
   ]
  },
  {
   "cell_type": "markdown",
   "metadata": {},
   "source": [
    "If you try to retrieve value that did not exist in the dictionary you will get an error"
   ]
  },
  {
   "cell_type": "code",
   "execution_count": 20,
   "metadata": {},
   "outputs": [
    {
     "ename": "KeyError",
     "evalue": "1",
     "output_type": "error",
     "traceback": [
      "\u001b[1;31m---------------------------------------------------------------------------\u001b[0m",
      "\u001b[1;31mKeyError\u001b[0m                                  Traceback (most recent call last)",
      "\u001b[1;32m<ipython-input-20-6442e7456eba>\u001b[0m in \u001b[0;36m<module>\u001b[1;34m\u001b[0m\n\u001b[0;32m      1\u001b[0m \u001b[0md\u001b[0m \u001b[1;33m=\u001b[0m \u001b[1;33m{\u001b[0m\u001b[1;33m}\u001b[0m\u001b[1;33m\u001b[0m\u001b[1;33m\u001b[0m\u001b[0m\n\u001b[1;32m----> 2\u001b[1;33m \u001b[0mprint\u001b[0m\u001b[1;33m(\u001b[0m\u001b[0md\u001b[0m\u001b[1;33m[\u001b[0m\u001b[1;36m1\u001b[0m\u001b[1;33m]\u001b[0m\u001b[1;33m)\u001b[0m\u001b[1;33m\u001b[0m\u001b[1;33m\u001b[0m\u001b[0m\n\u001b[0m",
      "\u001b[1;31mKeyError\u001b[0m: 1"
     ]
    }
   ],
   "source": [
    "d = {}\n",
    "print(d[1])"
   ]
  },
  {
   "cell_type": "markdown",
   "metadata": {},
   "source": [
    "You can check if some key was already used using **in** or use function get() that returns *None* or predefined value."
   ]
  },
  {
   "cell_type": "code",
   "execution_count": 22,
   "metadata": {},
   "outputs": [
    {
     "name": "stdout",
     "output_type": "stream",
     "text": [
      "There is no aaa in your dictionary\n",
      "\n",
      "None\n",
      "No key in this dict\n"
     ]
    }
   ],
   "source": [
    "d = {}\n",
    "key = 'aaa'\n",
    "if key in d:\n",
    "    print(d[key])\n",
    "else:\n",
    "    print('There is no {} in your dictionary'.format(key))\n",
    "    \n",
    "print()\n",
    "print(d.get(key))\n",
    "print(d.get(key, 'No key in this dict'))"
   ]
  },
  {
   "cell_type": "markdown",
   "metadata": {},
   "source": [
    "You can create dictionary with some key:value pairs already in it. You can also use dictionary comprehension that works similarly to list comprehension."
   ]
  },
  {
   "cell_type": "code",
   "execution_count": null,
   "metadata": {},
   "outputs": [],
   "source": [
    "import string\n",
    "\n",
    "d1 = {1:'something', '1':'something else', 'aaa':123}\n",
    "print(d1)\n",
    "\n",
    "print()\n",
    "print(string.ascii_lowercase)\n",
    "d2 = {x:0 for x in string.ascii_lowercase}\n",
    "print(d2)"
   ]
  },
  {
   "cell_type": "markdown",
   "metadata": {},
   "source": [
    "There are several ways to iterate over dictionary. Examine examples below."
   ]
  },
  {
   "cell_type": "code",
   "execution_count": 28,
   "metadata": {},
   "outputs": [
    {
     "name": "stdout",
     "output_type": "stream",
     "text": [
      "dict_keys([1, '1', 'aaa'])\n",
      "dict_values(['something', 'something else', 123])\n",
      "dict_items([(1, 'something'), ('1', 'something else'), ('aaa', 123)])\n",
      "1 something\t1 something else\taaa 123\t\n",
      "1 something\t1 something else\taaa 123\t\n",
      "something\tsomething else\t123\t\n",
      "1 something\t1 something else\taaa 123\t\n"
     ]
    }
   ],
   "source": [
    "d = {1:'something', '1':'something else', 'aaa':123}\n",
    "\n",
    "print(d.keys())\n",
    "print(d.values())\n",
    "print(d.items())\n",
    "\n",
    "for k in d:\n",
    "    print(k, d[k], end='\\t')\n",
    "print()\n",
    "\n",
    "for k in d.keys():\n",
    "    print(k, d[k], end='\\t')\n",
    "print()\n",
    "    \n",
    "for v in d.values():\n",
    "    print(v, end='\\t')  # no access to key \n",
    "print()\n",
    "\n",
    "for k, v in d.items():\n",
    "    print(k, v, end='\\t')\n",
    "print()"
   ]
  },
  {
   "cell_type": "markdown",
   "metadata": {},
   "source": [
    "## Exercises\n",
    "Ex. 1. Use slicing notation to get:\n",
    " - first *n* items\n",
    " - last *n* items\n",
    " - all but first *n* items\n",
    " - all but last *n* items\n",
    " - every *n*th element (from beggining)\n",
    " - reverse the list"
   ]
  },
  {
   "cell_type": "code",
   "execution_count": 8,
   "metadata": {},
   "outputs": [
    {
     "name": "stdout",
     "output_type": "stream",
     "text": [
      "4\n",
      "[0, 1, 2, 3]\n",
      "[5, 6, 7, 8, 9, 10]\n",
      "[4, 5, 6, 7, 8, 9, 10]\n",
      "[0, 1, 2, 3, 4]\n",
      "[0, 4, 8]\n",
      "[10, 9, 8, 7, 6, 5, 4, 3, 2, 1, 0]\n"
     ]
    }
   ],
   "source": [
    "n = int(input())\n",
    "l = [0, 1, 2, 3, 4, 5, 6, 7, 8, 9, 10]\n",
    "print(l[:n])\n",
    "print(l[n+1:])\n",
    "print(l[n:])\n",
    "print(l[:n+1])\n",
    "print(l[0:10:n])\n",
    "print(l[::-1])"
   ]
  },
  {
   "cell_type": "markdown",
   "metadata": {},
   "source": [
    "Ex. 2. Write a function that returns a number of digits of an integer."
   ]
  },
  {
   "cell_type": "code",
   "execution_count": 12,
   "metadata": {},
   "outputs": [
    {
     "name": "stdout",
     "output_type": "stream",
     "text": [
      "Correct\n"
     ]
    }
   ],
   "source": [
    "def count_digits(n):\n",
    "    n = int(n)\n",
    "    num = 0\n",
    "    while n != 0:\n",
    "        n //= 10\n",
    "        num += 1\n",
    "    return num\n",
    "\n",
    "if count_digits(123) == 3 and count_digits(1) == 1 and count_digits(12342938473) == 11:\n",
    "    print('Correct')\n",
    "else:\n",
    "    print('Incorrect')"
   ]
  },
  {
   "cell_type": "markdown",
   "metadata": {},
   "source": [
    "Ex. 3. Write a function that removes each occurrence of a given letter from a string. (Of course strings are immutable, so return new string without this letter.)"
   ]
  },
  {
   "cell_type": "code",
   "execution_count": 15,
   "metadata": {},
   "outputs": [
    {
     "name": "stdout",
     "output_type": "stream",
     "text": [
      "Correct\n"
     ]
    }
   ],
   "source": [
    "def rm_let_from_str(letter, string):\n",
    "    return(string.replace(letter, ''))\n",
    "\n",
    "if rm_let_from_str('a', 'apple') == 'pple' and rm_let_from_str('s', 'somestringwithmoreletters') == 'ometringwithmoreletter' and rm_let_from_str('a', 'aaaaaa') == '':\n",
    "    print('Correct')\n",
    "else:\n",
    "    print('Incorrect')\n",
    "    "
   ]
  },
  {
   "cell_type": "markdown",
   "metadata": {},
   "source": [
    "Ex 4. Write function that recognizes whether something is a palindrome."
   ]
  },
  {
   "cell_type": "code",
   "execution_count": 17,
   "metadata": {},
   "outputs": [
    {
     "name": "stdout",
     "output_type": "stream",
     "text": [
      "Correct\n"
     ]
    }
   ],
   "source": [
    "def is_palindrome(s):\n",
    "    return s == s[::-1]\n",
    "\n",
    "\n",
    "if is_palindrome('aaaaa') and is_palindrome('ababa') and not is_palindrome('aaabbb'):\n",
    "    print('Correct')\n",
    "else:\n",
    "    print('Incorrect')"
   ]
  },
  {
   "cell_type": "markdown",
   "metadata": {},
   "source": [
    "Ex. 5. Write a function that counts how many non-overlapping occurrences of a substring appear in a string."
   ]
  },
  {
   "cell_type": "code",
   "execution_count": 24,
   "metadata": {},
   "outputs": [
    {
     "name": "stdout",
     "output_type": "stream",
     "text": [
      "Correct\n"
     ]
    }
   ],
   "source": [
    "def count_occ(string, substring):\n",
    "    num = string.count(substring)\n",
    "    \n",
    "    return num\n",
    "\n",
    "if count_occ('banana', 'na') == 2 and count_occ('aaaaaaaa', 'aa') == 4 and count_occ('banana', 'h') == 0:\n",
    "    print('Correct')\n",
    "else:\n",
    "    print('Incorrect')"
   ]
  },
  {
   "cell_type": "markdown",
   "metadata": {},
   "source": [
    "Ex. 6. Write a function that removes duplicate letters from a string (only the first occurance of a letter is kept)."
   ]
  },
  {
   "cell_type": "code",
   "execution_count": 27,
   "metadata": {},
   "outputs": [
    {
     "name": "stdout",
     "output_type": "stream",
     "text": [
      "Correct\n"
     ]
    }
   ],
   "source": [
    "def remove_dup(s):\n",
    "    l = []\n",
    "    for i in s:\n",
    "        if i not in l:\n",
    "            l.append(i)\n",
    "            s = \"\".join(l)\n",
    "    return s\n",
    "\n",
    "if remove_dup('aaaaa') == 'a' and remove_dup('abababab') == 'ab' and remove_dup('abcbasdbrwefj') == 'abcsdrwefj':\n",
    "    print('Correct')\n",
    "else:\n",
    "    print('Incorrect')"
   ]
  },
  {
   "cell_type": "markdown",
   "metadata": {},
   "source": [
    "Ex. 7. Implement the following list functions on your own."
   ]
  },
  {
   "cell_type": "code",
   "execution_count": 29,
   "metadata": {},
   "outputs": [],
   "source": [
    "def count(list, x):\n",
    "    num = list.count(x)\n",
    "    return num\n",
    "\n",
    "\n",
    "# There is no in function, implement keyword in\n",
    "def is_in(list, x):\n",
    "    if x in list:\n",
    "        key = True\n",
    "    else:\n",
    "        key = False\n",
    "    return key\n",
    "\n",
    "\n",
    "def index(list, x):\n",
    "    if x in list:\n",
    "        n = list.index(x)\n",
    "    else:\n",
    "        n = -1\n",
    "    return n\n",
    " \n",
    "    \n",
    "def insert(list, x, pos):\n",
    "    l = list.strip('][').split(', ')\n",
    "    l.insert(pos, x)\n",
    "    return l\n"
   ]
  },
  {
   "cell_type": "markdown",
   "metadata": {},
   "source": [
    "Ex. 8. Write a program that counts the number of occurrences of each letter (case insensitive) in a given string."
   ]
  },
  {
   "cell_type": "code",
   "execution_count": 33,
   "metadata": {},
   "outputs": [
    {
     "name": "stdout",
     "output_type": "stream",
     "text": [
      "{'i': 57, 'n': 64, ' ': 182, 'c': 37, 'o': 58, 'm': 34, 'p': 16, 'u': 21, 't': 81, 'e': 111, 'r': 69, 'g': 26, 'a': 105, ',': 9, 's': 59, 'd': 33, 'l': 49, 'y': 21, 'q': 4, 'f': 13, 'h': 22, 'k': 2, 'v': 3, 'b': 11, '.': 7, 'w': 6, 'x': 2, '(': 3, ')': 3, '\\n': 4, '[': 1, '1': 1, ']': 1}\n"
     ]
    }
   ],
   "source": [
    "def counter_of_let(s):\n",
    "    set = {}\n",
    "    s = s.lower()\n",
    "    for i in s: \n",
    "        if i in set: \n",
    "            set[i] += 1\n",
    "        else: \n",
    "            set[i] = 1\n",
    "    return set\n",
    "\n",
    "\n",
    "print(counter_of_let(s = '''In computer programming, a string is traditionally a sequence of characters, either as a literal constant or as some kind of variable. The latter may allow its elements to be mutated and the length changed, or it may be fixed (after creation).\n",
    "A string is generally considered as a data type and is often implemented as an array data structure of bytes (or words) that stores a sequence of elements, typically characters, using some character encoding. String may also denote more general arrays or other sequence (or list) data types and structures.\n",
    "Depending on the programming language and precise data type used, a variable declared to be a string may either cause storage in memory to be statically allocated for a predetermined maximum length or employ dynamic allocation to allow it to hold a variable number of elements.\n",
    "When a string appears literally in source code, it is known as a string literal or an anonymous string.[1]\n",
    "In formal languages, which are used in mathematical logic and theoretical computer science, a string is a finite sequence of symbols that are chosen from a set called an alphabet.'''))\n"
   ]
  },
  {
   "cell_type": "code",
   "execution_count": null,
   "metadata": {},
   "outputs": [],
   "source": []
  }
 ],
 "metadata": {
  "kernelspec": {
   "display_name": "Python 3",
   "language": "python",
   "name": "python3"
  },
  "language_info": {
   "codemirror_mode": {
    "name": "ipython",
    "version": 3
   },
   "file_extension": ".py",
   "mimetype": "text/x-python",
   "name": "python",
   "nbconvert_exporter": "python",
   "pygments_lexer": "ipython3",
   "version": "3.8.3"
  }
 },
 "nbformat": 4,
 "nbformat_minor": 2
}
