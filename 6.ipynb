{
 "cells": [
  {
   "cell_type": "markdown",
   "metadata": {},
   "source": [
    "## Recursion\n",
    "Recursion is a technique of solving problem using smaller version of the same problem. Let us examine **factorial()** function below.\n",
    "\n",
    "$factorial(n) = n! = 1 \\cdot 2 \\cdot ... \\cdot n$"
   ]
  },
  {
   "cell_type": "code",
   "execution_count": 12,
   "metadata": {},
   "outputs": [
    {
     "name": "stdout",
     "output_type": "stream",
     "text": [
      "120\n"
     ]
    }
   ],
   "source": [
    "def factorial(n):\n",
    "    if n == 1: return 1\n",
    "    return factorial(n-1) * n\n",
    "\n",
    "print(factorial(5))"
   ]
  },
  {
   "cell_type": "markdown",
   "metadata": {},
   "source": [
    "To write recursive algorithm we need the following:\n",
    "1. Base case - You must know the solution for some base case of the problem. Here we know, that $1! = 1$.\n",
    "2. Function should call itself, but for smaller problem. Here the smaller vesion of the problem is $(n-1)!$\n",
    "3. You have to calculate the solution to the problem using the solution of the smaller problem. Here we know, that $n! = (n-1)! \\cdot n$\n",
    "4. The problem should decrease towards the base case. We know that by decreasing positive integer by 1 we will finally reach 1. It may not always be so obvious.\n",
    "\n",
    "Sometimes recursive solution may unnecessarily calculate the same subproblems many times."
   ]
  },
  {
   "cell_type": "code",
   "execution_count": 4,
   "metadata": {},
   "outputs": [
    {
     "name": "stdout",
     "output_type": "stream",
     "text": [
      "89\n",
      "177\n"
     ]
    }
   ],
   "source": [
    "COUNTER = 0\n",
    "def fib(n):\n",
    "    global COUNTER\n",
    "    COUNTER += 1\n",
    "    if n == 0 or n == 1: return 1\n",
    "    return fib(n-1) + fib(n-2)\n",
    "\n",
    "print(fib(10))\n",
    "print(COUNTER)"
   ]
  },
  {
   "cell_type": "markdown",
   "metadata": {},
   "source": [
    "In example above we can see, that to calculate $fib(n)$ we have to solve two subproblems $fib(n-1)$ and $fib(n-2)$. To solve subproblem $f(n-1)$ we will have to solve subproblems $fib(n-2)$ and $fib(n-3)$. As you can see, some subproblems will be solved several times (variable COUNTER shows how many times function was called). We can improve the solution by memorizing what we already calculated."
   ]
  },
  {
   "cell_type": "code",
   "execution_count": 11,
   "metadata": {},
   "outputs": [
    {
     "name": "stdout",
     "output_type": "stream",
     "text": [
      "89\n",
      "19\n"
     ]
    }
   ],
   "source": [
    "COUNTER = 0\n",
    "def fib_with_memory(n, d):\n",
    "    global COUNTER\n",
    "    COUNTER += 1\n",
    "    if n in d:\n",
    "        return d[n]\n",
    "    tmp = fib_with_memory(n-1, d) + fib_with_memory(n-2, d)\n",
    "    d[n] = tmp\n",
    "    return tmp\n",
    "\n",
    "print(fib_with_memory(10, {0:1, 1:1}))\n",
    "print(COUNTER)"
   ]
  },
  {
   "cell_type": "markdown",
   "metadata": {},
   "source": [
    "In Python there is a limit on how many recursion calls you can make and by default it is quite small (1000). We can increase the limit with following code."
   ]
  },
  {
   "cell_type": "code",
   "execution_count": null,
   "metadata": {},
   "outputs": [],
   "source": [
    "import sys\n",
    "sys.setrecursionlimit(1000000)"
   ]
  },
  {
   "cell_type": "markdown",
   "metadata": {},
   "source": [
    "Recursion allows us to write elegant solutions to many problems. Let us solve Tower of Hanoi problem.\n",
    "\n",
    "The puzzle starts with the disks in a neat stack in ascending order of size on one rod, the smallest at the top, thus making a conical shape.\n",
    "The objective of the puzzle is to move the entire stack to another rod, obeying the following simple rules:\n",
    "\n",
    "   1. Only one disk can be moved at a time.\n",
    "   2. Each move consists of taking the upper disk from one of the stacks and placing it on top of another stack or on an empty rod.\n",
    "   3. No larger disk may be placed on top of a smaller disk.\n",
    "   \n",
    "https://en.wikipedia.org/wiki/Tower_of_Hanoi\n",
    "   \n",
    "The recursive solution to the problem with n discs is the following:\n",
    "1. Move n-1 discs from the starting stack to the temporary stack.\n",
    "2. Move disc from the starting stack to the end stack.\n",
    "3. Move n-1 discs from the temporary stack to the end stack\n",
    "\n",
    "Note, that following the execution of this program is quite hard. In recursive solutions you do not have to 'visualize' how the code works. You just have to be sure, that:\n",
    "1. Problem gets smaller with each recursion call, towards the base case\n",
    "2. You can solve the problem using solution to the subproblem."
   ]
  },
  {
   "cell_type": "code",
   "execution_count": null,
   "metadata": {},
   "outputs": [],
   "source": [
    "n = 4\n",
    "A = list(range(n))[::-1]\n",
    "B = []\n",
    "C = []\n",
    "\n",
    "def solve_hanoi(start, tmp, end, n):\n",
    "    if n == 0: return                  # to move 0 discs we do nothing\n",
    "    \n",
    "    solve_hanoi(start, end, tmp, n-1)  # step 1. we move from start to tmp stack,\n",
    "                                       # using end stack as temporary stack for the subproblem    \n",
    "    print(A)\n",
    "    print(B)  # print the state of the stacks\n",
    "    print(C)  # we use global names A, B, C, as start,end,tmp swap in subcalls\n",
    "    print('-------')\n",
    "        \n",
    "    disc = start.pop()                 # step 2. # we move one disc from starting to end\n",
    "    end.append(disc)\n",
    "    \n",
    "    solve_hanoi(tmp, start, end, n-1)  # step 3. we move from tmp stack to end stack\n",
    "                                       # using start stack as temporary stackfor the subproblem\n",
    "        \n",
    "solve_hanoi(A, B, C, n)\n",
    "print(A)\n",
    "print(B)\n",
    "print(C)"
   ]
  },
  {
   "cell_type": "markdown",
   "metadata": {},
   "source": [
    "## Exercises"
   ]
  },
  {
   "cell_type": "markdown",
   "metadata": {},
   "source": [
    "Ex. 1. Write a recursive program that calculates the sum of elements in a list."
   ]
  },
  {
   "cell_type": "code",
   "execution_count": 7,
   "metadata": {},
   "outputs": [
    {
     "name": "stdout",
     "output_type": "stream",
     "text": [
      "11\n"
     ]
    }
   ],
   "source": [
    "def counter(l): \n",
    "    if len(l) == 1:\n",
    "        return l[0]\n",
    "    return counter(l[1:]) + l[0]\n",
    "\n",
    "\n",
    "print(counter([1, 4, 6]))"
   ]
  },
  {
   "cell_type": "markdown",
   "metadata": {},
   "source": [
    "Ex. 2. Write a recursive program that reverse a list (or a string)."
   ]
  },
  {
   "cell_type": "code",
   "execution_count": 6,
   "metadata": {},
   "outputs": [
    {
     "name": "stdout",
     "output_type": "stream",
     "text": [
      "[6, 4, 1]\n",
      "8888855\n"
     ]
    }
   ],
   "source": [
    "def reverse(l): \n",
    "    if len(l) == 1:\n",
    "        return l\n",
    "    return l[-1:] + reverse(l[:-1])\n",
    "\n",
    "\n",
    "print(reverse([1, 4, 6]))\n",
    "print(reverse(\"5588888\"))"
   ]
  },
  {
   "cell_type": "markdown",
   "metadata": {},
   "source": [
    "Ex. 3. Write a recursive program that calculates how many calls there are to calculate **fib(n)**. (It should return the same number that COUNTER variable.)"
   ]
  },
  {
   "cell_type": "code",
   "execution_count": 8,
   "metadata": {},
   "outputs": [
    {
     "name": "stdout",
     "output_type": "stream",
     "text": [
      "89\n",
      "19\n"
     ]
    }
   ],
   "source": [
    "summ = 0\n",
    "memory = {}\n",
    "def fib(n):\n",
    "    global summ\n",
    "    summ += 1\n",
    "    if n in memory:\n",
    "        return memory[n]\n",
    "    elif n == 0 or n == 1: \n",
    "        return 1\n",
    "    else:\n",
    "        value = fib(n-1) + fib(n-2)\n",
    "    \n",
    "    memory[n] = value\n",
    "    return value\n",
    "\n",
    "\n",
    "print(fib(10))\n",
    "print(summ)"
   ]
  },
  {
   "cell_type": "markdown",
   "metadata": {},
   "source": [
    "Ex. 4. Write a program that for given alphabet and number $n$ will print all strings of length $n$ over that alphabet. For example, for alphabet 'abc' and $n = 2$ we should see: aa, ab, ac, ba, bb, bc, ca, cb, cc (order is not important)."
   ]
  },
  {
   "cell_type": "code",
   "execution_count": 4,
   "metadata": {},
   "outputs": [
    {
     "name": "stdout",
     "output_type": "stream",
     "text": [
      "aa\n",
      "ab\n",
      "ac\n",
      "ba\n",
      "bb\n",
      "bc\n",
      "ca\n",
      "cb\n",
      "cc\n",
      "None\n"
     ]
    }
   ],
   "source": [
    "def alphabet(num, comb, result =''):\n",
    "    if num == 0:\n",
    "        print(result)\n",
    "    elif num > 0:\n",
    "        for i in comb:\n",
    "            alphabet(num-1, comb, result + i)\n",
    "    \n",
    "    \n",
    "print(alphabet(2, 'abc'))\n",
    "    "
   ]
  },
  {
   "cell_type": "markdown",
   "metadata": {},
   "source": [
    "Ex. 5. Write a recursive program that searches for the element in a list and returns its index or -1 if there is no such element.\n",
    "\n",
    "If you feel brave you can assume the list is sorted and implement recursive binary search."
   ]
  },
  {
   "cell_type": "code",
   "execution_count": 3,
   "metadata": {},
   "outputs": [
    {
     "name": "stdout",
     "output_type": "stream",
     "text": [
      "2\n"
     ]
    }
   ],
   "source": [
    "count = 0\n",
    "def index_search(l, element):\n",
    "    global count\n",
    "    if l[0] == element:\n",
    "        return(count)\n",
    "    elif element not in l:\n",
    "            return(-1)\n",
    "    else:\n",
    "        count += 1\n",
    "        return index_search(l[1:], element)\n",
    "\n",
    "\n",
    "        \n",
    "print(index_search([1, 2, 3, 6], 3))"
   ]
  },
  {
   "cell_type": "markdown",
   "metadata": {},
   "source": [
    "Ex. 6. Write a recursive function that will \"jump in a list\" $n$ number of times. Start with index = 0. One jump is to update $index = l[index]$. Return the last index. You can assume numbers in list will be in range $[0, len(l))$.\n",
    "\n",
    "Example: $l = [2, 3, 5, 0, 1, 1], n = 3$, starting index = 0\n",
    "\n",
    "- First jump: index = l[0]\n",
    "- Second jump: index = l[2]\n",
    "- Third jump: index = l[5]\n",
    "- Last index = 1"
   ]
  },
  {
   "cell_type": "code",
   "execution_count": 10,
   "metadata": {},
   "outputs": [
    {
     "name": "stdout",
     "output_type": "stream",
     "text": [
      "0\n",
      "2\n",
      "1\n"
     ]
    }
   ],
   "source": [
    "def jump_function(array, num_of_jumps, position = 0):\n",
    "    if position == 0:\n",
    "        num_of_jumps -= 1\n",
    "    if num_of_jumps == 0:\n",
    "        return array[position]\n",
    "    else:\n",
    "        last_index = len(array) - 1\n",
    "        print(position)\n",
    "        step_size = (last_index - position)//num_of_jumps\n",
    "        new_position = position + step_size\n",
    "        new_position = last_index if new_position > last_index else new_position\n",
    "        return jump_function(array, num_of_jumps - 1, new_position)\n",
    "    \n",
    "    \n",
    "print(jump_function([2, 3, 5, 0, 1, 1], 3))"
   ]
  },
  {
   "cell_type": "code",
   "execution_count": null,
   "metadata": {},
   "outputs": [],
   "source": []
  },
  {
   "cell_type": "code",
   "execution_count": null,
   "metadata": {},
   "outputs": [],
   "source": []
  }
 ],
 "metadata": {
  "kernelspec": {
   "display_name": "Python 3",
   "language": "python",
   "name": "python3"
  },
  "language_info": {
   "codemirror_mode": {
    "name": "ipython",
    "version": 3
   },
   "file_extension": ".py",
   "mimetype": "text/x-python",
   "name": "python",
   "nbconvert_exporter": "python",
   "pygments_lexer": "ipython3",
   "version": "3.8.3"
  }
 },
 "nbformat": 4,
 "nbformat_minor": 4
}
