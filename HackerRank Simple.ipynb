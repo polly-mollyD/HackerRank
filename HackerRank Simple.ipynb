{
 "cells": [
  {
   "cell_type": "markdown",
   "metadata": {},
   "source": []
  },
  {
   "cell_type": "code",
   "execution_count": null,
   "metadata": {},
   "outputs": [],
   "source": [
    "n = int(input())\n",
    "prev = int(input())\n",
    "answer = True\n",
    "for _ in range(n - 1):\n",
    "    tmp = int(input())\n",
    "    answer = (prev == tmp)\n",
    "    if not answer:\n",
    "        break\n",
    "    prev = tmp\n",
    "print(answer)"
   ]
  },
  {
   "cell_type": "code",
   "execution_count": null,
   "metadata": {},
   "outputs": [],
   "source": []
  },
  {
   "cell_type": "code",
   "execution_count": null,
   "metadata": {},
   "outputs": [],
   "source": [
    "a = list(input())\n",
    "a = list(map(str.lower, a))\n",
    "n = 0\n",
    "l = \" \"\n",
    "for i in a:\n",
    "    if(i>='a' and i<='z'):\n",
    "        b = a.count(i)\n",
    "        if (n < b) or n == b and i < l:\n",
    "            l = i\n",
    "            n = b\n",
    "print(l)"
   ]
  },
  {
   "cell_type": "code",
   "execution_count": null,
   "metadata": {},
   "outputs": [],
   "source": []
  },
  {
   "cell_type": "code",
   "execution_count": null,
   "metadata": {},
   "outputs": [],
   "source": [
    "line = str(input())\n",
    "result = 0\n",
    "letter = 0\n",
    "\n",
    "for i in range(len(line)-1):\n",
    "    counter = 1\n",
    "    while i < (len(line)-1) and line[i] == line[i+1]:\n",
    "        counter += 1\n",
    "        i += 1\n",
    "    if (result < counter):\n",
    "        result = counter\n",
    "        letter = line[i]\n",
    "print(letter)\n"
   ]
  },
  {
   "cell_type": "code",
   "execution_count": null,
   "metadata": {},
   "outputs": [],
   "source": []
  },
  {
   "cell_type": "code",
   "execution_count": null,
   "metadata": {},
   "outputs": [],
   "source": [
    "def rectangle(integers, height):\n",
    "    biggest = 0\n",
    "    length = 0\n",
    "    for i in range(len(integers)):\n",
    "        if integers[i] >= height:\n",
    "            length += 1\n",
    "    \n",
    "        else:\n",
    "            if length > biggest:\n",
    "                biggest = length\n",
    "            length = 0\n",
    "            \n",
    "        if i == len(integers)-1 and length > biggest:\n",
    "            biggest = length\n",
    "            \n",
    "    return biggest\n",
    "\n",
    "\n",
    "num = int(input())\n",
    "rectangles = []\n",
    "result = 0\n",
    "for _ in range(num):\n",
    "    rectangles.append(int(input()))\n",
    "sort_rec = rectangles.copy()\n",
    "sort_rec.sort()\n",
    "\n",
    "for j in sort_rec:\n",
    "    tmp = rectangle(rectangles, j) * j\n",
    "    if tmp > result:\n",
    "        result = tmp\n",
    "    \n",
    "    \n",
    "    \n",
    "print(result)\n",
    "    "
   ]
  },
  {
   "cell_type": "code",
   "execution_count": null,
   "metadata": {},
   "outputs": [],
   "source": []
  },
  {
   "cell_type": "code",
   "execution_count": null,
   "metadata": {},
   "outputs": [],
   "source": [
    "h = int(input())\n",
    "n = int(input())\n",
    "for i in range(1, n+1):\n",
    "    for j in range(1, h+i):\n",
    "        print('* ' *j)"
   ]
  },
  {
   "cell_type": "code",
   "execution_count": null,
   "metadata": {},
   "outputs": [],
   "source": []
  },
  {
   "cell_type": "code",
   "execution_count": null,
   "metadata": {},
   "outputs": [],
   "source": [
    "n = int(input())\n",
    "for num in range(2, n):\n",
    "    prime = True\n",
    "    for i in range(2, num):\n",
    "        if num % i == 0:\n",
    "            prime = False\n",
    "    if prime:\n",
    "        print(num)\n",
    "        "
   ]
  },
  {
   "cell_type": "code",
   "execution_count": null,
   "metadata": {},
   "outputs": [],
   "source": []
  },
  {
   "cell_type": "code",
   "execution_count": null,
   "metadata": {},
   "outputs": [],
   "source": [
    "indexes = list(map(int, input().split()))\n",
    "indexes.sort()\n",
    "count = 0\n",
    "result = True\n",
    "if len(indexes) > 1:\n",
    "    difference = indexes[1] - indexes[0]\n",
    "    for i in range(indexes[1], indexes[-1] + 1, difference):\n",
    "        if i != difference + indexes[count]:\n",
    "            result = False\n",
    "        else:\n",
    "            count += 1\n",
    "    \n",
    "print(result)"
   ]
  },
  {
   "cell_type": "code",
   "execution_count": null,
   "metadata": {},
   "outputs": [],
   "source": []
  },
  {
   "cell_type": "code",
   "execution_count": null,
   "metadata": {},
   "outputs": [],
   "source": [
    "num = int(input())\n",
    "line = str(input())\n",
    "lower = 'abcdefghijklmnopqrstuvwxyz'\n",
    "upper = lower.upper()\n",
    "result = ''\n",
    "index = 0\n",
    "if num >= len(lower):\n",
    "    num %= 26\n",
    "for i in line:\n",
    "    if i in upper:\n",
    "        tmp = upper.find(i)\n",
    "        i = upper[tmp - num]\n",
    "        result += i\n",
    "    elif i in lower:\n",
    "        tmp = lower.find(i)\n",
    "        i = lower[tmp - num]\n",
    "        result += i\n",
    "        \n",
    "print(result)"
   ]
  },
  {
   "cell_type": "code",
   "execution_count": null,
   "metadata": {},
   "outputs": [],
   "source": []
  },
  {
   "cell_type": "code",
   "execution_count": null,
   "metadata": {},
   "outputs": [],
   "source": [
    "x1,y1 = map(int, input().split())\n",
    "x2,y2 = map(int, input().split())\n",
    "x3,y3 = map(int, input().split())\n",
    "result = 1/2 * abs(x1*(y2-y3)+x2*(y3-y1)+x3*(y1-y2))\n",
    "if result == 0:\n",
    "    print(True)\n",
    "else:\n",
    "    print(False)"
   ]
  },
  {
   "cell_type": "code",
   "execution_count": null,
   "metadata": {},
   "outputs": [],
   "source": []
  },
  {
   "cell_type": "code",
   "execution_count": null,
   "metadata": {},
   "outputs": [],
   "source": [
    "num = int(input())\n",
    "for _ in range(num):\n",
    "    temperature = list(input().split())\n",
    "    if 'Kelvin' == temperature[1]:\n",
    "        if float(temperature[0]) < 0.0:\n",
    "            print('NO')\n",
    "        elif 'Celsius' == temperature[2]:\n",
    "            tmp = float(temperature[0]) - 273.15\n",
    "            tmp = \"{:.2f}\".format(tmp)\n",
    "            print(tmp)\n",
    "        else:\n",
    "            tmp = float(temperature[0])*1.8 - 459.67\n",
    "            tmp = \"{:.2f}\".format(tmp)\n",
    "            print(tmp)\n",
    "    elif 'Celsius' == temperature[1]:\n",
    "        if float(temperature[0]) < -273.15:\n",
    "            print('NO')\n",
    "        elif 'Kelvin' == temperature[2]:\n",
    "            tmp = float(temperature[0]) + 273.15\n",
    "            tmp = \"{:.2f}\".format(tmp)\n",
    "            print(tmp)\n",
    "        else:\n",
    "            tmp = (float(temperature[0]) * 1.8) + 32\n",
    "            tmp = \"{:.2f}\".format(tmp)\n",
    "            print(tmp)\n",
    "    else:\n",
    "        if float(temperature[0]) < -459.67:\n",
    "            print('NO')\n",
    "        elif 'Kelvin' == temperature[2]:\n",
    "            tmp = (float(temperature[0]) + 459.67) / 1.8\n",
    "            tmp = \"{:.2f}\".format(tmp)\n",
    "            print(tmp)\n",
    "        else:\n",
    "            tmp = (float(temperature[0]) - 32) / 1.8\n",
    "            tmp = \"{:.2f}\".format(tmp)\n",
    "            print(tmp)"
   ]
  },
  {
   "cell_type": "code",
   "execution_count": null,
   "metadata": {},
   "outputs": [],
   "source": []
  },
  {
   "cell_type": "code",
   "execution_count": null,
   "metadata": {},
   "outputs": [],
   "source": [
    "A, B, C = map(int, input().split())\n",
    "result = A * B * C\n",
    "print(result)"
   ]
  },
  {
   "cell_type": "code",
   "execution_count": null,
   "metadata": {},
   "outputs": [],
   "source": []
  },
  {
   "cell_type": "code",
   "execution_count": null,
   "metadata": {},
   "outputs": [],
   "source": [
    "sentence = str(input())\n",
    "vowels = 'aeiouyAEIOUY'\n",
    "for i in sentence:\n",
    "    if i in vowels:\n",
    "        sentence = sentence.replace(i, '')\n",
    "print(sentence)\n"
   ]
  },
  {
   "cell_type": "code",
   "execution_count": null,
   "metadata": {},
   "outputs": [],
   "source": []
  },
  {
   "cell_type": "code",
   "execution_count": null,
   "metadata": {},
   "outputs": [],
   "source": [
    "num = int(input())\n",
    "letter = num * 'o'\n",
    "print('W' + letter + 'w')"
   ]
  },
  {
   "cell_type": "code",
   "execution_count": null,
   "metadata": {},
   "outputs": [],
   "source": []
  },
  {
   "cell_type": "code",
   "execution_count": null,
   "metadata": {},
   "outputs": [],
   "source": [
    "a, b = map(int, input().split())\n",
    "result = 0\n",
    "for i in range(a, b+1):\n",
    "    result += i**2\n",
    "\n",
    "print(result)"
   ]
  },
  {
   "cell_type": "code",
   "execution_count": null,
   "metadata": {},
   "outputs": [],
   "source": []
  },
  {
   "cell_type": "code",
   "execution_count": null,
   "metadata": {},
   "outputs": [],
   "source": [
    "first_line = int(input())\n",
    "lines = []\n",
    "for i in range(first_line):\n",
    "    lines.append(input())\n",
    "for j in range(first_line):\n",
    "    n, m = map(int, lines[j].split())\n",
    "    if n>m:\n",
    "        print(n, ' is greater than ', m)\n",
    "    elif n==m:\n",
    "        print('n is equal m: ', n)\n",
    "    elif n<m:\n",
    "        print(n, ' is smaller than ', m)"
   ]
  },
  {
   "cell_type": "code",
   "execution_count": null,
   "metadata": {},
   "outputs": [],
   "source": []
  },
  {
   "cell_type": "code",
   "execution_count": null,
   "metadata": {},
   "outputs": [],
   "source": [
    "n, x, y = map(int, input().split())\n",
    "result = 0\n",
    "for a in range(n+1):\n",
    "    for b in range(n+1):\n",
    "        for c in range(n+1):\n",
    "            for d in range(n+1):\n",
    "                if x*(a**2)+y*(b**2)==x*(c**2)+y*(d**2):\n",
    "                    result += 1\n",
    "                    \n",
    "print(result)"
   ]
  },
  {
   "cell_type": "code",
   "execution_count": null,
   "metadata": {},
   "outputs": [],
   "source": []
  },
  {
   "cell_type": "code",
   "execution_count": null,
   "metadata": {},
   "outputs": [],
   "source": [
    "l = list(map(int, input().split()))\n",
    "ind1, ind2 = map(int, input().split())\n",
    "sum = 0\n",
    "for j in range(ind1, ind2+1):\n",
    "    sum += l[j]\n",
    "print(sum)"
   ]
  },
  {
   "cell_type": "code",
   "execution_count": null,
   "metadata": {},
   "outputs": [],
   "source": []
  },
  {
   "cell_type": "code",
   "execution_count": null,
   "metadata": {},
   "outputs": [],
   "source": [
    "num = int(input())\n",
    "sequence = list(map(int, input().split()))\n",
    "sequence.sort()\n",
    "result = ' '.join(str(i) for i in sequence)\n",
    "print(result)"
   ]
  },
  {
   "cell_type": "code",
   "execution_count": null,
   "metadata": {},
   "outputs": [],
   "source": []
  },
  {
   "cell_type": "code",
   "execution_count": null,
   "metadata": {},
   "outputs": [],
   "source": [
    "line = str(input())\n",
    "pattern = str(input())\n",
    "if pattern in line:\n",
    "    print('YES')\n",
    "else:\n",
    "    print('NO')"
   ]
  },
  {
   "cell_type": "code",
   "execution_count": null,
   "metadata": {},
   "outputs": [],
   "source": []
  },
  {
   "cell_type": "code",
   "execution_count": null,
   "metadata": {},
   "outputs": [],
   "source": [
    "john, betty = map(int, input().split())\n",
    "if john > betty:\n",
    "    print('John')\n",
    "elif betty > john:\n",
    "    print('Betty')\n",
    "else:\n",
    "    print('NOBODY')"
   ]
  },
  {
   "cell_type": "code",
   "execution_count": null,
   "metadata": {},
   "outputs": [],
   "source": []
  },
  {
   "cell_type": "code",
   "execution_count": null,
   "metadata": {},
   "outputs": [],
   "source": [
    "integers = input().split()\n",
    "result = 0\n",
    "for i in range(len(integers)):\n",
    "    tmp = 0\n",
    "    for j in range(i, len(integers)):\n",
    "        tmp += int(integers[j])\n",
    "        if tmp > result:\n",
    "            result = tmp\n",
    "\n",
    "        \n",
    "print(result)"
   ]
  },
  {
   "cell_type": "code",
   "execution_count": null,
   "metadata": {},
   "outputs": [],
   "source": []
  },
  {
   "cell_type": "code",
   "execution_count": null,
   "metadata": {},
   "outputs": [],
   "source": [
    "num = int(input())\n",
    "matrix = []\n",
    "result = 0\n",
    "for _ in range(num):\n",
    "    matrix.append(list(map(int, input().split())))\n",
    "for row in range(num):\n",
    "    for column in range(num):\n",
    "        for x_position in range(num-row):\n",
    "            for y_position in range(num-column):\n",
    "                tmp = 0\n",
    "                for x in range(row+1):\n",
    "                    for y in range(column+1):\n",
    "                        tmp += matrix[x_position+x][y_position+y]\n",
    "                if tmp > result:\n",
    "                    result = tmp\n",
    "                    \n",
    "                    \n",
    "print(result)"
   ]
  },
  {
   "cell_type": "code",
   "execution_count": null,
   "metadata": {},
   "outputs": [],
   "source": []
  },
  {
   "cell_type": "code",
   "execution_count": null,
   "metadata": {},
   "outputs": [],
   "source": [
    "def integers(index, num):\n",
    "    if index > len(num)-1:\n",
    "        return 0\n",
    "    else:\n",
    "        return int(num[index]) + integers(index + 1, num)\n",
    "\n",
    "\n",
    "numbers = input().split()\n",
    "print(integers(0, numbers))\n",
    "    "
   ]
  },
  {
   "cell_type": "code",
   "execution_count": null,
   "metadata": {},
   "outputs": [],
   "source": []
  },
  {
   "cell_type": "code",
   "execution_count": null,
   "metadata": {},
   "outputs": [],
   "source": [
    "num = int(input())\n",
    "print(1)"
   ]
  },
  {
   "cell_type": "code",
   "execution_count": null,
   "metadata": {},
   "outputs": [],
   "source": []
  },
  {
   "cell_type": "code",
   "execution_count": null,
   "metadata": {},
   "outputs": [],
   "source": [
    "num = int(input())\n",
    "print(num)"
   ]
  },
  {
   "cell_type": "code",
   "execution_count": null,
   "metadata": {},
   "outputs": [],
   "source": []
  },
  {
   "cell_type": "code",
   "execution_count": null,
   "metadata": {},
   "outputs": [],
   "source": [
    "num = int(input())\n",
    "if num == 1:\n",
    "    print(1)\n",
    "for i in range(2, num):\n",
    "    if num % i == 0:\n",
    "        print(i)\n",
    "        break"
   ]
  },
  {
   "cell_type": "code",
   "execution_count": null,
   "metadata": {},
   "outputs": [],
   "source": []
  },
  {
   "cell_type": "code",
   "execution_count": null,
   "metadata": {},
   "outputs": [],
   "source": [
    "num = int(input())\n",
    "s = ''\n",
    "for i in range(num):\n",
    "    string = input()\n",
    "    s += string[i]\n",
    "print(s)"
   ]
  },
  {
   "cell_type": "code",
   "execution_count": null,
   "metadata": {},
   "outputs": [],
   "source": []
  },
  {
   "cell_type": "code",
   "execution_count": null,
   "metadata": {},
   "outputs": [],
   "source": [
    "number = int(input())\n",
    "integer = list(map(int, input().split()))\n",
    "result = 'NO'\n",
    "for i in range(number-1):\n",
    "    for j in range(1, number):\n",
    "        if abs(integer[i] - integer[j]) == 1:\n",
    "            result = 'YES'\n",
    "print(result)"
   ]
  },
  {
   "cell_type": "code",
   "execution_count": null,
   "metadata": {},
   "outputs": [],
   "source": []
  },
  {
   "cell_type": "code",
   "execution_count": null,
   "metadata": {},
   "outputs": [],
   "source": [
    "n, m = map(int, input().split())\n",
    "sequence = input().split()\n",
    "for i in range(m):\n",
    "    ind1, ind2 = map(int, input().split())\n",
    "    sequence[ind1], sequence[ind2] = sequence[ind2], sequence[ind1]\n",
    "print(' '.join(sequence))"
   ]
  },
  {
   "cell_type": "code",
   "execution_count": null,
   "metadata": {},
   "outputs": [],
   "source": []
  },
  {
   "cell_type": "code",
   "execution_count": null,
   "metadata": {},
   "outputs": [],
   "source": [
    "import math\n",
    "\n",
    "complex_num = input().split()\n",
    "a = float(complex_num[0])\n",
    "b = complex_num[2][:len(complex_num[2])-1]\n",
    "b = float(b)\n",
    "if '-' in complex_num:\n",
    "    b *= -1\n",
    "print((a**2 + b**2)**(1/2))\n",
    "print(math.atan2(b,a))"
   ]
  },
  {
   "cell_type": "code",
   "execution_count": null,
   "metadata": {},
   "outputs": [],
   "source": []
  },
  {
   "cell_type": "code",
   "execution_count": null,
   "metadata": {},
   "outputs": [],
   "source": []
  },
  {
   "cell_type": "code",
   "execution_count": null,
   "metadata": {},
   "outputs": [],
   "source": []
  }
 ],
 "metadata": {
  "kernelspec": {
   "display_name": "Python 3",
   "language": "python",
   "name": "python3"
  },
  "language_info": {
   "codemirror_mode": {
    "name": "ipython",
    "version": 3
   },
   "file_extension": ".py",
   "mimetype": "text/x-python",
   "name": "python",
   "nbconvert_exporter": "python",
   "pygments_lexer": "ipython3",
   "version": "3.8.3"
  }
 },
 "nbformat": 4,
 "nbformat_minor": 4
}
