{
 "cells": [
  {
   "cell_type": "markdown",
   "metadata": {},
   "source": [
    "## Classes and Objects"
   ]
  },
  {
   "cell_type": "markdown",
   "metadata": {},
   "source": [
    "Analyze the Point class below."
   ]
  },
  {
   "cell_type": "code",
   "execution_count": 1,
   "metadata": {},
   "outputs": [
    {
     "name": "stdout",
     "output_type": "stream",
     "text": [
      "__init__ invoked!\n",
      "__init__ invoked!\n",
      "0 0\n",
      "1 2\n",
      "__str__ invoked!\n",
      "x: 0, y: 0\n",
      "__str__ invoked!\n",
      "x: 1, y: 2\n",
      "0.0\n",
      "2.23606797749979\n"
     ]
    }
   ],
   "source": [
    "class Point:\n",
    "    \n",
    "    '''\n",
    "    This function will be invoked each time new point is created.\n",
    "    The first parameter (usually called self, but you can change it) will store the object you are creating.\n",
    "    You can add as many parameters as you want.\n",
    "    You can store new values in your object as shown below with variables x and y.\n",
    "    '''\n",
    "    def __init__(self, x=0, y=0):\n",
    "        print('__init__ invoked!')\n",
    "        self.x = x\n",
    "        self.y = y\n",
    "\n",
    "    '''\n",
    "    This function is called when you invoke str() function.\n",
    "    It should return some string.\n",
    "    '''\n",
    "    def __str__(self):\n",
    "        print('__str__ invoked!')\n",
    "        return 'x: {}, y: {}'.format(self.x, self.y)\n",
    "    \n",
    "    '''\n",
    "    We can add some other functions that may be useful for our class\n",
    "    '''\n",
    "    def distance_to_0_0(self):\n",
    "        return (self.x**2 + self.y**2)**0.5\n",
    "    \n",
    "    \n",
    "    def distance(self, p):\n",
    "        return ((self.x - p.x)**2 + (self.y - p.y)**2)**0.5\n",
    "\n",
    "    \n",
    "# We create new object by using its class name\n",
    "p1 = Point()\n",
    "p2 = Point(1, 2)\n",
    "\n",
    "# We can access variables we added in __init__ function\n",
    "print(p1.x, p1.y)\n",
    "print(p2.x, p2.y)\n",
    "\n",
    "# We can cast our Point to string\n",
    "s = str(p1)\n",
    "print(s)\n",
    "\n",
    "# print calls str function as well\n",
    "print(p2)\n",
    "\n",
    "# When we invoke our function p1 ends in self\n",
    "d = p1.distance_to_0_0()\n",
    "print(d)\n",
    "\n",
    "# When we invoke our function p1 ends in 'self' and p2 ends in p\n",
    "d = p1.distance(p2)\n",
    "print(d)"
   ]
  },
  {
   "cell_type": "markdown",
   "metadata": {},
   "source": [
    "If you wonder how is it possible to simply assign some variables \"inside\" your object as we did with self.x = 0, you can think about it as using dictionary with some other syntax."
   ]
  },
  {
   "cell_type": "code",
   "execution_count": 2,
   "metadata": {},
   "outputs": [
    {
     "name": "stdout",
     "output_type": "stream",
     "text": [
      "__init__ invoked!\n",
      "0 0\n",
      "{'x': 0, 'y': 0}\n",
      "0 0\n"
     ]
    }
   ],
   "source": [
    "p = Point()\n",
    "print(p.x, p.y)\n",
    "print(p.__dict__)\n",
    "print(p.__dict__['x'], p.__dict__['y'])"
   ]
  },
  {
   "cell_type": "markdown",
   "metadata": {},
   "source": [
    "## Excercises\n",
    "In most exercises you will have to modify the Point class above. You will have to rerun cell for your changes to have effect."
   ]
  },
  {
   "cell_type": "markdown",
   "metadata": {},
   "source": [
    "Ex. 1. Add function *move*, that will take two parameters **dx** and **dy** and modify the values of **x** and **y** in your Point."
   ]
  },
  {
   "cell_type": "code",
   "execution_count": 3,
   "metadata": {},
   "outputs": [
    {
     "name": "stdout",
     "output_type": "stream",
     "text": [
      "Correct!\n"
     ]
    }
   ],
   "source": [
    "class Point:\n",
    "\n",
    "    def move(self, x = 0, y = 0):\n",
    "        self.x = x\n",
    "        self.y = y\n",
    "\n",
    "\n",
    "p = Point()\n",
    "p.move(2, 5)\n",
    "if p.x == 2 and p.y == 5:\n",
    "    print('Correct!')\n",
    "else:\n",
    "    print('Incorrect!')"
   ]
  },
  {
   "cell_type": "markdown",
   "metadata": {},
   "source": [
    "Ex. 2. Add function *point_between* that will return new Point with coordinates between *self* and point given as argument. Invocation should look like this: \n",
    "```\n",
    "p1.point_between(p2)\n",
    "```"
   ]
  },
  {
   "cell_type": "code",
   "execution_count": 4,
   "metadata": {
    "scrolled": true
   },
   "outputs": [
    {
     "name": "stdout",
     "output_type": "stream",
     "text": [
      "Correct!\n"
     ]
    }
   ],
   "source": [
    "class Point:\n",
    "    \n",
    "    def __init__(self, x = 0, y = 0):\n",
    "        self.x = x\n",
    "        self.y = y\n",
    "        \n",
    "    def point_between(self, p):\n",
    "        dx = (self.x + p.x)//2\n",
    "        dy = (self.y + p.y)//2\n",
    "        return Point(dx, dy)\n",
    "\n",
    "\n",
    "res = Point(0,0).point_between(Point(2,2))\n",
    "if res.x == 1 and res.y == 1:\n",
    "    print('Correct!')\n",
    "else:\n",
    "    print('Incorrect!')\n"
   ]
  },
  {
   "cell_type": "markdown",
   "metadata": {},
   "source": [
    "Ex. 3. Add function *get_line_to* that will return coefficients (a, b) of line ($y=ax+b$) that connects two points (self and argument) (assume there won't be vertical line)."
   ]
  },
  {
   "cell_type": "code",
   "execution_count": 5,
   "metadata": {},
   "outputs": [
    {
     "name": "stdout",
     "output_type": "stream",
     "text": [
      "Correct!\n"
     ]
    }
   ],
   "source": [
    "class Point:\n",
    "\n",
    "    def __init__(self, x = 0, y = 0):\n",
    "        self.x = x\n",
    "        self.y = y\n",
    "        \n",
    "    def get_line_to(self, p):\n",
    "        a = p.x - self.x\n",
    "        b = p.y - self.y\n",
    "        return a, b\n",
    "\n",
    "\n",
    "p1 = Point(0,1)\n",
    "p2 = Point(1,2)\n",
    "if p1.get_line_to(p2) == (1,1):\n",
    "    print('Correct!')\n",
    "else:\n",
    "    print('Incorrect!')"
   ]
  },
  {
   "cell_type": "markdown",
   "metadata": {},
   "source": [
    "Ex. 4. When you use < > <= >= != and == between object special functions are called.\n",
    "The correspondence between operator symbols and method names is as follows: x<y calls x.\\_\\_lt\\_\\_(y), x<=y calls x.\\_\\_le\\_\\_(y), x==y calls x.\\_\\_eq\\_\\_(y), x!=y calls x.\\_\\_ne\\_\\_(y), x>y calls x.\\_\\_gt\\_\\_(y), and x>=y calls x.\\_\\_ge\\_\\_(y).\n",
    "\n",
    "Implement at least one such function so that we will be able to compare Points. Let's say that p1 is greater than p2 (p1 > p2) when p1.distance_to_0_0() > p2.distance_to_0_0() "
   ]
  },
  {
   "cell_type": "code",
   "execution_count": 6,
   "metadata": {},
   "outputs": [
    {
     "name": "stdout",
     "output_type": "stream",
     "text": [
      "Correct!\n"
     ]
    }
   ],
   "source": [
    "class Point:\n",
    "    \n",
    "    def __init__(self, x=0, y=0):\n",
    "        self.x = x\n",
    "        self.y = y\n",
    "        \n",
    "    def __gt__(self, other_point):\n",
    "        return self.x > other_point.x and self.y > other_point.y\n",
    "\n",
    "\n",
    "if not (Point(0,0) > Point(1,1)) and Point(2,2) > Point(1,1):\n",
    "    print('Correct!')\n",
    "else:\n",
    "    print('Incorrect!')    "
   ]
  },
  {
   "cell_type": "markdown",
   "metadata": {},
   "source": [
    "Ex. 5. Implement Rectangle class.\n",
    "- To represent our rectangle we will store three things: Point that is its upper left corner, width, and height.\n",
    "- Add function that will be used to cast Rectangle to string. \n",
    "- Add functions *r.area()* and *r.perimeter()* that will return area and perimeter of Rectangle r.\n",
    "- Add function *r.center()* that will return Point that is the center of the Rectangle r.\n",
    "- Add function *r.contains(p)* that will check, wheater Point p is inside Rectangle r.\n",
    "- (Hard) Add function *r1.overlap(r2)* that will check wheater Rectangle r1 overlaps with Rectangle r2."
   ]
  },
  {
   "cell_type": "code",
   "execution_count": 7,
   "metadata": {},
   "outputs": [
    {
     "name": "stdout",
     "output_type": "stream",
     "text": [
      "u_l_corner: (4, 8), width: 8, height: 9\n",
      "72\n",
      "34\n",
      "(4.0, 4.5)\n",
      "True\n",
      "True\n"
     ]
    }
   ],
   "source": [
    "class Point:\n",
    "    def __init__(self, x, y):\n",
    "        self.x = x\n",
    "        self.y = y\n",
    "    def __str__(self):\n",
    "        return '({}, {})'.format(self.x, self.y)\n",
    "\n",
    "\n",
    "class Rectangle:\n",
    "    \n",
    "    def __init__(self, u_l_corner, w, h):\n",
    "        self.u_l_corner = u_l_corner\n",
    "        self.width = w\n",
    "        self.height = h\n",
    "        \n",
    "    def __str__(self):\n",
    "        return 'u_l_corner: {}, width: {}, height: {}'.format(self.u_l_corner, self.width, self.height)\n",
    "    \n",
    "    def r_area(self):\n",
    "        return self.width * self.height\n",
    "    \n",
    "    def r_perimeter(self):\n",
    "        return (self.width + self.height) * 2\n",
    "    \n",
    "    def r_center(self):\n",
    "        px = self.width / 2\n",
    "        py = self.height / 2\n",
    "        return (px, py)\n",
    "\n",
    "    def r_contains(self, p):\n",
    "        u_r_corner = Point(self.u_l_corner.x + self.width, self.u_l_corner.y)\n",
    "        l_r_corner = Point(self.u_l_corner.x + self.width, self.u_l_corner.y - self.height)\n",
    "        l_l_corner = Point(self.u_l_corner.x, self.u_l_corner.y - self.height)\n",
    "        return self.u_l_corner.x < p.x < u_r_corner.x and l_l_corner.y < p.y < u_r_corner.y\n",
    "    \n",
    "    def r_overlap(self, second):\n",
    "        rec1_u = Point(self.u_l_corner.x + self.width, self.u_l_corner.y)\n",
    "        rec1_l = Point(self.u_l_corner.x, self.u_l_corner.y - self.height)\n",
    "        rec2_u = Point(second.u_l_corner.x + second.width, second.u_l_corner.y)\n",
    "        rec2_l = Point(second.u_l_corner.x, second.u_l_corner.y - second.height)\n",
    "        \n",
    "        return rec1_u.x >= rec2_u.x >= rec1_l.x and rec1_u.x >= rec2_l.x >= rec1_l.x and rec1_u.y >= rec2_u.y >= rec1_l.y and rec1_u.x >= rec2_l.x >= rec1_l.x\n",
    "\n",
    "        \n",
    "        \n",
    "point = Rectangle(Point(4, 8), 8, 9)\n",
    "point1 = Rectangle(Point(4, 7), 8, 9)\n",
    "\n",
    "print(point.__str__())\n",
    "print(point.r_area())\n",
    "print(point.r_perimeter())\n",
    "print(point.r_center())\n",
    "print(point.r_contains(Point(5, 6)))\n",
    "print(point.r_overlap(point1))"
   ]
  },
  {
   "cell_type": "code",
   "execution_count": null,
   "metadata": {},
   "outputs": [],
   "source": []
  }
 ],
 "metadata": {
  "kernelspec": {
   "display_name": "Python 3",
   "language": "python",
   "name": "python3"
  },
  "language_info": {
   "codemirror_mode": {
    "name": "ipython",
    "version": 3
   },
   "file_extension": ".py",
   "mimetype": "text/x-python",
   "name": "python",
   "nbconvert_exporter": "python",
   "pygments_lexer": "ipython3",
   "version": "3.8.3"
  }
 },
 "nbformat": 4,
 "nbformat_minor": 2
}
